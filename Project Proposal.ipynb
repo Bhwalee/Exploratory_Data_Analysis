{
 "cells": [
  {
   "cell_type": "markdown",
   "id": "3146ad34",
   "metadata": {},
   "source": [
    "###Project Proposal Template"
   ]
  },
  {
   "cell_type": "markdown",
   "id": "df16d67a",
   "metadata": {},
   "source": [
    "Question - One of our clients, WomenTechWomenYes(WTWY), wants to gather signatures as much as possible based on the placement of the street teams.\n",
    "Purpose - Based on time and locations from MTA data, I will gather ENTRIES and EXITS and rate top 5 stations. I will categorize by days and calculate by time to analyze the traffic hours. Determine peak hours so that WTWY will know when the best time to place the teams. I will also categorize time into parts of the day to determine if morning or evening is more busy."
   ]
  },
  {
   "cell_type": "markdown",
   "id": "66c4976d",
   "metadata": {},
   "source": [
    "Data - I would import the data from MTA dataset and minimize the loss of the data. Using Python's Seaborn and pandas, I will calculate fields, remove erroneous data, and aggregate by station and date. I would use demographic and geographical data to determine commuters and any other correlations."
   ]
  },
  {
   "cell_type": "markdown",
   "id": "ca93396b",
   "metadata": {},
   "source": []
  }
 ],
 "metadata": {
  "kernelspec": {
   "display_name": "Python [conda env:metis] *",
   "language": "python",
   "name": "conda-env-metis-py"
  },
  "language_info": {
   "codemirror_mode": {
    "name": "ipython",
    "version": 3
   },
   "file_extension": ".py",
   "mimetype": "text/x-python",
   "name": "python",
   "nbconvert_exporter": "python",
   "pygments_lexer": "ipython3",
   "version": "3.8.10"
  }
 },
 "nbformat": 4,
 "nbformat_minor": 5
}
