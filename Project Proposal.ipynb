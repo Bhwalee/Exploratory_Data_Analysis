{
 "cells": [
  {
   "cell_type": "markdown",
   "id": "3146ad34",
   "metadata": {},
   "source": [
    "###Project Proposal Template"
   ]
  },
  {
   "cell_type": "markdown",
   "id": "df16d67a",
   "metadata": {},
   "source": [
    "Question - One of our clients, WomenTechWomenYes(WTWY), wants to gather signatures as much as possible based on the placement of the street teams.\n",
    "Purpose - Based on time and location from MTA data, I would gather ENTRIES and EXITS and rate top 5 stations. I will particularly focus on weekdays since that's when the most traffic occurs. Determine peak hours so that WTWY would know the best time to place teams. "
   ]
  },
  {
   "cell_type": "markdown",
   "id": "66c4976d",
   "metadata": {},
   "source": [
    "Data - I would import data from MTA dataset and reduce the loss of data . Using Python's Seaborn and pandas, I would calculate fields, remove erroneous data, and aggregate by station and date. I would use demographic and geographical data to determine commuters and any other correlations."
   ]
  },
  {
   "cell_type": "markdown",
   "id": "ca93396b",
   "metadata": {},
   "source": []
  }
 ],
 "metadata": {
  "kernelspec": {
   "display_name": "Python [conda env:metis] *",
   "language": "python",
   "name": "conda-env-metis-py"
  },
  "language_info": {
   "codemirror_mode": {
    "name": "ipython",
    "version": 3
   },
   "file_extension": ".py",
   "mimetype": "text/x-python",
   "name": "python",
   "nbconvert_exporter": "python",
   "pygments_lexer": "ipython3",
   "version": "3.8.10"
  }
 },
 "nbformat": 4,
 "nbformat_minor": 5
}
